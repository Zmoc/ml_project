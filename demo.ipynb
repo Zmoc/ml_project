{
 "cells": [
  {
   "cell_type": "code",
   "execution_count": 1,
   "id": "ad6e79cb",
   "metadata": {},
   "outputs": [
    {
     "name": "stdout",
     "output_type": "stream",
     "text": [
      "Configurations loaded, Model: None, Threads: N/A, Device: CPU\n",
      "Brain not loaded, reverting to Default Routine\n",
      "My name is Servitor. I am a cybersecurity agent tasked with defending your local system.\n",
      "This is a demonstration of my capabilities without a Large Language Model installed. For this demonstration, I will attempt to detect anomalous behavior on the system using a Long Short-Term Memory neural network.\n"
     ]
    }
   ],
   "source": [
    "from classes.servitor import Servitor, Brain\n",
    "servitor = Servitor(\"config/config.yaml\")"
   ]
  }
 ],
 "metadata": {
  "kernelspec": {
   "display_name": "Python 3",
   "language": "python",
   "name": "python3"
  },
  "language_info": {
   "codemirror_mode": {
    "name": "ipython",
    "version": 3
   },
   "file_extension": ".py",
   "mimetype": "text/x-python",
   "name": "python",
   "nbconvert_exporter": "python",
   "pygments_lexer": "ipython3",
   "version": "3.13.2"
  }
 },
 "nbformat": 4,
 "nbformat_minor": 5
}
