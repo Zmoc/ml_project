{
 "cells": [
  {
   "cell_type": "code",
   "execution_count": 1,
   "id": "ad6e79cb",
   "metadata": {},
   "outputs": [],
   "source": [
    "from classes.network import scan_traffic"
   ]
  },
  {
   "cell_type": "code",
   "execution_count": 2,
   "id": "53c83771",
   "metadata": {},
   "outputs": [
    {
     "name": "stdout",
     "output_type": "stream",
     "text": [
      "Loading Datasets\n",
      "Running on cuda\n",
      "Anomalies detected: 6432 out of 643162 sequences\n",
      "Anomaly rate: 1.00%\n"
     ]
    }
   ],
   "source": [
    "scan_traffic(csv_path=\"data/testing_final.csv\", model_path=\"data/lstm_autoencoder.pth\",threshold=1)"
   ]
  }
 ],
 "metadata": {
  "kernelspec": {
   "display_name": "Python 3",
   "language": "python",
   "name": "python3"
  },
  "language_info": {
   "codemirror_mode": {
    "name": "ipython",
    "version": 3
   },
   "file_extension": ".py",
   "mimetype": "text/x-python",
   "name": "python",
   "nbconvert_exporter": "python",
   "pygments_lexer": "ipython3",
   "version": "3.13.2"
  }
 },
 "nbformat": 4,
 "nbformat_minor": 5
}
