{
  "cells": [
    {
      "cell_type": "code",
      "execution_count": null,
      "id": "0c098a5c",
      "metadata": {
        "colab": {
          "base_uri": "https://localhost:8080/"
        },
        "id": "0c098a5c",
        "outputId": "b9173e3e-e842-4cab-b49c-4803accdd5bd"
      },
      "outputs": [],
      "source": [
        "!pip install llama-cpp-python\n",
        "!pip install --upgrade llama-cpp-python\n",
        "!pip install python-nmap\n",
        "!pip install pyshark\n",
        "!pip install scapy"
      ]
    },
    {
      "cell_type": "code",
      "execution_count": null,
      "id": "EqalQww4StAs",
      "metadata": {
        "colab": {
          "base_uri": "https://localhost:8080/"
        },
        "id": "EqalQww4StAs",
        "outputId": "153e67d6-a747-419e-b669-6ee6c6149a9d"
      },
      "outputs": [],
      "source": [
        "!apt-get install wireshark\n",
        "!apt-get install tshark\n",
        "!apt-get install nmap"
      ]
    },
    {
      "cell_type": "code",
      "execution_count": null,
      "id": "9dd8f20e",
      "metadata": {
        "colab": {
          "base_uri": "https://localhost:8080/"
        },
        "id": "9dd8f20e",
        "outputId": "9ade7594-5869-4f50-b602-625ce51ba517"
      },
      "outputs": [],
      "source": [
        "!wget -O mistral-7b-instruct-v0.1.Q4_K_M.gguf \"https://huggingface.co/TheBloke/Mistral-7B-Instruct-v0.1-GGUF/resolve/main/mistral-7b-instruct-v0.1.Q4_K_M.gguf\""
      ]
    },
    {
      "cell_type": "code",
      "execution_count": null,
      "id": "1QPeCVaZRTNL",
      "metadata": {
        "colab": {
          "base_uri": "https://localhost:8080/"
        },
        "id": "1QPeCVaZRTNL",
        "outputId": "5746b735-2d4b-46a4-8cee-66ea0d649223"
      },
      "outputs": [],
      "source": [
        "!git clone -b llm_buildout https://github.com/Zmoc/ml_project.git"
      ]
    },
    {
      "cell_type": "code",
      "execution_count": null,
      "id": "GosT7z8wWAQR",
      "metadata": {
        "colab": {
          "base_uri": "https://localhost:8080/"
        },
        "id": "GosT7z8wWAQR",
        "outputId": "6e24812b-e6bd-4536-d662-e325c7b01957"
      },
      "outputs": [],
      "source": [
        "%cd ml_project"
      ]
    },
    {
      "cell_type": "code",
      "execution_count": null,
      "id": "ad6e79cb",
      "metadata": {
        "colab": {
          "base_uri": "https://localhost:8080/"
        },
        "id": "ad6e79cb",
        "outputId": "5de0ae1f-1ad0-4b45-cc37-69ff55aa6196"
      },
      "outputs": [],
      "source": [
        "from ml_project.classes.servitor import Servitor, Brain\n",
        "brain = Brain(\"/content/ml_project/mistral-7b-instruct-v0.1.Q4_K_M.gguf\")\n",
        "servitor = Servitor(\"/content/ml_project/config/config.yaml\",brain=brain)"
      ]
    }
  ],
  "metadata": {
    "colab": {
      "provenance": []
    },
    "kernelspec": {
      "display_name": "Python 3",
      "language": "python",
      "name": "python3"
    },
    "language_info": {
      "codemirror_mode": {
        "name": "ipython",
        "version": 3
      },
      "file_extension": ".py",
      "mimetype": "text/x-python",
      "name": "python",
      "nbconvert_exporter": "python",
      "pygments_lexer": "ipython3",
      "version": "3.13.2"
    }
  },
  "nbformat": 4,
  "nbformat_minor": 5
}
