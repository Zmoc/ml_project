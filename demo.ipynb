{
 "cells": [
  {
   "cell_type": "code",
   "execution_count": 1,
   "id": "ad6e79cb",
   "metadata": {},
   "outputs": [
    {
     "name": "stdout",
     "output_type": "stream",
     "text": [
      "Please wait...loading brain...\n",
      "Configurations loaded, Model: data/llm/mistral-7b-instruct-v0.1.Q4_K_M.gguf, Threads: 8, Device: cpu\n",
      "Brain loaded\n",
      "My name is Servitor. I am a cybersecurity agent tasked with defending your local system.\n",
      "Servitor is ready. Type your command:\n",
      "Processing prompt\n",
      "Prompt Recieved.\n"
     ]
    },
    {
     "name": "stderr",
     "output_type": "stream",
     "text": [
      "llama_perf_context_print:        load time =    3182.24 ms\n",
      "llama_perf_context_print: prompt eval time =    3182.07 ms /    96 tokens (   33.15 ms per token,    30.17 tokens per second)\n",
      "llama_perf_context_print:        eval time =    1295.07 ms /     5 runs   (  259.01 ms per token,     3.86 tokens per second)\n",
      "llama_perf_context_print:       total time =    4479.03 ms /   101 tokens\n"
     ]
    },
    {
     "name": "stdout",
     "output_type": "stream",
     "text": [
      "Prompt processed.\n",
      "Raw response: {'id': 'cmpl-73a5a91c-f8b9-411f-b7af-97500b0d7597', 'object': 'text_completion', 'created': 1745720215, 'model': 'data/llm/mistral-7b-instruct-v0.1.Q4_K_M.gguf', 'choices': [{'text': '\\nscan\\\\_traffic', 'index': 0, 'logprobs': None, 'finish_reason': 'stop'}], 'usage': {'prompt_tokens': 96, 'completion_tokens': 5, 'total_tokens': 101}}\n",
      "Response: scan\\_traffic\n",
      "Normalized Response: scan_traffic\n"
     ]
    },
    {
     "name": "stderr",
     "output_type": "stream",
     "text": [
      "c:\\Users\\greyh\\AppData\\Local\\Programs\\Python\\Python313\\Lib\\site-packages\\pyshark\\capture\\capture.py:177: UserWarning: The running eventloop has tasks but pyshark must set a new eventloop to continue. Existing tasks may not run.\n",
      "  warnings.warn(\"The running eventloop has tasks but pyshark must set a new eventloop to continue. \"\n"
     ]
    },
    {
     "name": "stdout",
     "output_type": "stream",
     "text": [
      "Error: Cannot run the event loop while another loop is running\n"
     ]
    },
    {
     "name": "stderr",
     "output_type": "stream",
     "text": [
      "d:\\GitRepos\\ml_project\\classes\\servitor.py:89: RuntimeWarning: coroutine 'Capture._get_tshark_process' was never awaited\n",
      "  print(f\"Error: {e}\")\n",
      "RuntimeWarning: Enable tracemalloc to get the object allocation traceback\n"
     ]
    },
    {
     "name": "stdout",
     "output_type": "stream",
     "text": [
      "Agent exiting.\n"
     ]
    }
   ],
   "source": [
    "from classes.servitor import Servitor, Brain\n",
    "brain = Brain(\"data/llm/mistral-7b-instruct-v0.1.Q4_K_M.gguf\")\n",
    "servitor = Servitor(\"config/config.yaml\",brain=brain)"
   ]
  }
 ],
 "metadata": {
  "kernelspec": {
   "display_name": "Python 3",
   "language": "python",
   "name": "python3"
  },
  "language_info": {
   "codemirror_mode": {
    "name": "ipython",
    "version": 3
   },
   "file_extension": ".py",
   "mimetype": "text/x-python",
   "name": "python",
   "nbconvert_exporter": "python",
   "pygments_lexer": "ipython3",
   "version": "3.13.2"
  }
 },
 "nbformat": 4,
 "nbformat_minor": 5
}
