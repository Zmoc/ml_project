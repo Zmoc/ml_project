{
  "cells": [
    {
      "cell_type": "code",
      "execution_count": null,
      "id": "0c098a5c",
      "metadata": {
        "id": "0c098a5c"
      },
      "outputs": [],
      "source": [
        "!pip install llama-cpp-python\n",
        "!pip install --upgrade llama-cpp-python\n",
        "!pip install python-nmap\n",
        "!pip install pyshark\n",
        "!pip install scapy"
      ]
    },
    {
      "cell_type": "code",
      "source": [
        "!apt-get install wireshark\n",
        "!apt-get install tshark\n",
        "!apt-get install nmap"
      ],
      "metadata": {
        "id": "EqalQww4StAs"
      },
      "id": "EqalQww4StAs",
      "execution_count": null,
      "outputs": []
    },
    {
      "cell_type": "code",
      "execution_count": null,
      "id": "9dd8f20e",
      "metadata": {
        "id": "9dd8f20e"
      },
      "outputs": [],
      "source": [
        "!wget -O mistral-7b-instruct-v0.1.Q4_K_M.gguf \"https://huggingface.co/TheBloke/Mistral-7B-Instruct-v0.1-GGUF/resolve/main/mistral-7b-instruct-v0.1.Q4_K_M.gguf\""
      ]
    },
    {
      "cell_type": "code",
      "source": [
        "!git clone -b llm_buildout https://github.com/Zmoc/ml_project.git\n",
        "%cd ml_project"
      ],
      "metadata": {
        "id": "1QPeCVaZRTNL"
      },
      "id": "1QPeCVaZRTNL",
      "execution_count": null,
      "outputs": []
    },
    {
      "cell_type": "code",
      "execution_count": null,
      "id": "ad6e79cb",
      "metadata": {
        "id": "ad6e79cb"
      },
      "outputs": [],
      "source": [
        "from ml_project.classes.servitor import Servitor, Brain\n",
        "brain = Brain(\"/content/mistral-7b-instruct-v0.1.Q4_K_M.gguf\")\n",
        "servitor = Servitor(\"/content/ml_project/config/config.yaml\",brain=brain)"
      ]
    }
  ],
  "metadata": {
    "kernelspec": {
      "display_name": "Python 3",
      "language": "python",
      "name": "python3"
    },
    "language_info": {
      "codemirror_mode": {
        "name": "ipython",
        "version": 3
      },
      "file_extension": ".py",
      "mimetype": "text/x-python",
      "name": "python",
      "nbconvert_exporter": "python",
      "pygments_lexer": "ipython3",
      "version": "3.13.2"
    },
    "colab": {
      "provenance": []
    }
  },
  "nbformat": 4,
  "nbformat_minor": 5
}