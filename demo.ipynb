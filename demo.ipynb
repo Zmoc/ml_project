{
 "cells": [
  {
   "cell_type": "code",
   "execution_count": 1,
   "id": "ad6e79cb",
   "metadata": {},
   "outputs": [
    {
     "name": "stdout",
     "output_type": "stream",
     "text": [
      "Configurations loaded, Model: None, Threads: N/A, Device: CPU\n",
      "Brain not loaded, reverting to Default Routine\n",
      "My name is Servitor. I am a cybersecurity agent tasked with defending your local system.\n"
     ]
    }
   ],
   "source": [
    "from classes.servitor import Servitor, Brain\n",
    "servitor = Servitor(\"config/config.yaml\")"
   ]
  },
  {
   "cell_type": "code",
   "execution_count": null,
   "id": "53c83771",
   "metadata": {},
   "outputs": [],
   "source": [
    "from classes.network import scan_traffic\n",
    "scan_traffic(csv_path=\"data/testing_final.csv\", model_path=\"data/lstm_autoencoder.pth\",threshold=1)"
   ]
  }
 ],
 "metadata": {
  "kernelspec": {
   "display_name": "base",
   "language": "python",
   "name": "python3"
  },
  "language_info": {
   "codemirror_mode": {
    "name": "ipython",
    "version": 3
   },
   "file_extension": ".py",
   "mimetype": "text/x-python",
   "name": "python",
   "nbconvert_exporter": "python",
   "pygments_lexer": "ipython3",
   "version": "3.12.7"
  }
 },
 "nbformat": 4,
 "nbformat_minor": 5
}
